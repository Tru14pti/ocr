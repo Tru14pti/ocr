{
 "cells": [
  {
   "cell_type": "code",
   "execution_count": null,
   "id": "46e36d71-f86b-4c94-a9d5-0602d36c749d",
   "metadata": {},
   "outputs": [],
   "source": []
  },
  {
   "cell_type": "code",
   "execution_count": 1,
   "id": "9ed34895-62d7-4af1-9e75-d58406734b8c",
   "metadata": {},
   "outputs": [
    {
     "name": "stdout",
     "output_type": "stream",
     "text": [
      "Requirement already satisfied: pytesseract in c:\\users\\shantanu\\anaconda3\\lib\\site-packages (0.3.10)\n",
      "Requirement already satisfied: Pillow>=8.0.0 in c:\\users\\shantanu\\anaconda3\\lib\\site-packages (from pytesseract) (9.0.1)\n",
      "Requirement already satisfied: packaging>=21.3 in c:\\users\\shantanu\\anaconda3\\lib\\site-packages (from pytesseract) (21.3)\n",
      "Requirement already satisfied: pyparsing!=3.0.5,>=2.0.2 in c:\\users\\shantanu\\anaconda3\\lib\\site-packages (from packaging>=21.3->pytesseract) (3.0.4)\n",
      "Note: you may need to restart the kernel to use updated packages.\n"
     ]
    }
   ],
   "source": [
    "pip install pytesseract"
   ]
  },
  {
   "cell_type": "code",
   "execution_count": 2,
   "id": "43c2374a-3f57-482d-916e-3f79ad6aa54f",
   "metadata": {},
   "outputs": [],
   "source": [
    "import pytesseract\n",
    "from PIL import Image"
   ]
  },
  {
   "cell_type": "code",
   "execution_count": 3,
   "id": "f4868077-79a7-45b5-bb22-a0b4c12aeeb4",
   "metadata": {},
   "outputs": [],
   "source": [
    "img_file=\"temp/bw_image.jpg\""
   ]
  },
  {
   "cell_type": "code",
   "execution_count": 4,
   "id": "4c62b5b7-f5ff-41ba-8a44-ad675c9ff96e",
   "metadata": {},
   "outputs": [],
   "source": [
    "img=Image.open(img_file)"
   ]
  },
  {
   "cell_type": "code",
   "execution_count": 5,
   "id": "9e1e0008-1d72-4fc3-ae64-594ae9a51217",
   "metadata": {},
   "outputs": [],
   "source": [
    "ocr_result=pytesseract.image_to_boxes(img)"
   ]
  },
  {
   "cell_type": "code",
   "execution_count": 6,
   "id": "38147751-7f91-4774-a773-190ebccaad1a",
   "metadata": {},
   "outputs": [
    {
     "name": "stdout",
     "output_type": "stream",
     "text": [
      "C 65 929 79 944 0\n",
      "O 85 929 100 944 0\n",
      "M 106 929 122 944 0\n",
      "P 129 929 140 944 0\n",
      "A 144 929 159 944 0\n",
      "N 164 929 177 944 0\n",
      "Y 183 929 195 944 0\n",
      "N 201 929 213 944 0\n",
      "A 219 929 231 944 0\n",
      "M 237 929 252 944 0\n",
      "E 259 929 267 944 0\n",
      "~ 0 573 628 1004 0\n",
      "T 172 523 190 547 0\n",
      "R 192 523 210 547 0\n",
      "U 212 522 232 547 0\n",
      "P 235 523 253 547 0\n",
      "T 253 523 272 547 0\n",
      "I 274 523 279 547 0\n",
      "P 290 523 332 547 0\n",
      "A 321 522 343 547 0\n",
      "C 333 522 356 547 0\n",
      "H 359 523 379 547 0\n",
      "A 381 523 404 547 0\n",
      "R 406 523 424 547 0\n",
      "N 427 523 447 547 0\n",
      "E 451 523 466 547 0\n",
      "S 209 489 217 501 0\n",
      "T 221 489 229 501 0\n",
      "U 233 489 242 501 0\n",
      "D 247 489 257 501 0\n",
      "E 262 489 269 501 0\n",
      "N 274 489 283 501 0\n",
      "T 287 489 295 501 0\n",
      "A 307 489 317 501 0\n",
      "T 320 489 328 501 0\n",
      "B 341 489 349 501 0\n",
      "Y 353 489 363 501 0\n",
      "C 367 489 379 501 0\n",
      "O 383 489 395 501 0\n",
      "E 400 489 407 501 0\n",
      "W 411 489 426 501 0\n",
      "R 179 354 189 369 0\n",
      "o 185 354 195 370 0\n",
      "l 190 354 202 366 0\n",
      "l 204 354 211 370 0\n",
      "N 219 354 230 369 0\n",
      "o 230 354 238 369 0\n",
      ". 232 354 248 366 0\n",
      "3 307 353 317 369 0\n",
      "3 319 353 329 369 0\n",
      "5 332 354 342 369 0\n",
      "7 343 354 353 369 0\n",
      "D 179 311 192 326 0\n",
      "O 193 310 208 326 0\n",
      "B 210 311 220 326 0\n",
      "1 306 311 311 326 0\n",
      "4 312 311 324 326 0\n",
      "/ 325 307 332 331 0\n",
      "0 333 311 344 326 0\n",
      "5 346 310 357 326 0\n",
      "/ 358 307 365 331 0\n",
      "2 366 311 376 326 0\n",
      "0 378 311 389 326 0\n",
      "0 390 311 401 326 0\n",
      "2 403 311 414 326 0\n",
      "E 179 269 187 284 0\n",
      "m 189 269 208 281 0\n",
      "a 203 258 214 289 0\n",
      "i 210 269 222 281 0\n",
      "l 224 269 231 285 0\n",
      "t 306 269 313 284 0\n",
      "r 312 263 324 286 0\n",
      "u 315 268 333 281 0\n",
      "p 336 263 348 281 0\n",
      "t 348 269 356 284 0\n",
      "i 357 269 360 285 0\n",
      "p 362 263 374 281 0\n",
      "a 375 268 388 281 0\n",
      "c 389 268 401 281 0\n",
      "h 403 269 414 285 0\n",
      "a 416 268 428 281 0\n",
      "r 430 269 437 281 0\n",
      "n 438 269 449 281 0\n",
      "e 451 268 462 281 0\n",
      "l 463 269 467 284 0\n",
      "4 469 269 481 284 0\n",
      "@ 482 263 504 286 0\n",
      "g 505 263 517 281 0\n",
      "m 519 269 538 281 0\n",
      "a 531 263 542 286 0\n",
      "i 540 268 552 281 0\n",
      "l 554 269 557 285 0\n",
      ". 559 269 566 285 0\n",
      "c 307 247 318 260 0\n",
      "o 320 247 332 260 0\n",
      "m 334 248 353 260 0\n",
      "P 179 220 188 234 0\n",
      "h 189 220 200 235 0\n",
      "o 201 219 213 231 0\n",
      "n 214 220 225 231 0\n",
      "e 226 219 237 231 0\n",
      "8 299 220 309 235 0\n",
      "9 311 220 321 235 0\n",
      "8 322 220 333 235 0\n",
      "3 335 220 345 235 0\n",
      "3 346 220 356 235 0\n",
      "8 357 220 368 235 0\n",
      "2 369 221 379 235 0\n",
      "1 380 221 384 235 0\n",
      "8 386 220 396 235 0\n",
      "0 398 221 408 235 0\n",
      "~ 0 8 628 132 0\n",
      "\n"
     ]
    }
   ],
   "source": [
    "print(ocr_result)"
   ]
  },
  {
   "cell_type": "code",
   "execution_count": null,
   "id": "cb3a3266-6e9d-4c3d-8692-bff13be2a053",
   "metadata": {},
   "outputs": [],
   "source": []
  }
 ],
 "metadata": {
  "kernelspec": {
   "display_name": "Python 3 (ipykernel)",
   "language": "python",
   "name": "python3"
  },
  "language_info": {
   "codemirror_mode": {
    "name": "ipython",
    "version": 3
   },
   "file_extension": ".py",
   "mimetype": "text/x-python",
   "name": "python",
   "nbconvert_exporter": "python",
   "pygments_lexer": "ipython3",
   "version": "3.9.12"
  }
 },
 "nbformat": 4,
 "nbformat_minor": 5
}
